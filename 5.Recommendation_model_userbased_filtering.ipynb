{
 "cells": [
  {
   "cell_type": "code",
   "execution_count": null,
   "id": "354a5db3-57b1-4d07-93f8-87d565eab9a3",
   "metadata": {},
   "outputs": [],
   "source": [
    "import pandas as pd\n",
    "from sklearn.feature_extraction.text import TfidfVectorizer\n",
    "from sklearn.metrics.pairwise import cosine_similarity\n",
    "from sklearn.preprocessing import StandardScaler\n",
    "from sklearn.preprocessing import MinMaxScaler\n",
    "from scipy.sparse import hstack\n",
    "import pandas as pd"
   ]
  },
  {
   "cell_type": "code",
   "execution_count": null,
   "id": "86bfbebe-716e-41a8-8aae-185250bd7d1a",
   "metadata": {},
   "outputs": [],
   "source": [
    "# Load the dataset\n",
    "file_path = 'sepsis_diab_pt_all_v2.xlsx'  # Update if needed\n",
    "# Load all sheets\n",
    "sheets = pd.ExcelFile(file_path)\n",
    "sheet_names = sheets.sheet_names\n",
    "print(\"Available Sheets:\", sheet_names)"
   ]
  },
  {
   "cell_type": "code",
   "execution_count": null,
   "id": "29d70bf5-992c-4a43-9cfd-a61d1cff54b2",
   "metadata": {},
   "outputs": [],
   "source": [
    "# Load individual sheets\n",
    "admission_data = sheets.parse('sepsis_pt_all_admission details')\n",
    "lab_events = sheets.parse('sepsis_lab_events')\n",
    "microbiology_events = sheets.parse('microbiology events')\n",
    "prescription_data = sheets.parse('prescriptoin')\n",
    "#poe_data = sheets.parse('poe')\n",
    "#poe_details = sheets.parse('poe_detail')"
   ]
  },
  {
   "cell_type": "code",
   "execution_count": null,
   "id": "ef99bb2a-4c92-4a65-9e0c-30dd890ac97c",
   "metadata": {},
   "outputs": [],
   "source": [
    "microbiology_events"
   ]
  },
  {
   "cell_type": "code",
   "execution_count": null,
   "id": "2997e2a9-960b-4837-93a9-2e5c24bc01b5",
   "metadata": {},
   "outputs": [],
   "source": [
    "admission_data.info(verbose=True)"
   ]
  },
  {
   "cell_type": "code",
   "execution_count": null,
   "id": "c066053c-7c34-425d-811c-67085963146b",
   "metadata": {},
   "outputs": [],
   "source": [
    "# Select relevant columns\n",
    "admission_data = admission_data[['subject_id','hadm_id', 'admission_type', 'drg_code', 'dx_1_code', 'edhours','heartdisease_flag','kidneydisease_flag']].drop_duplicates()\n",
    "prescription_data = prescription_data[['subject_id','hadm_id', 'drug']].drop_duplicates()\n",
    "\n",
    "prescription_data=prescription_data.reset_index()\n",
    "\n",
    "# Drop rows with missing values in critical columns\n",
    "admission_data.dropna(subset=['subject_id','hadm_id', 'admission_type', 'drg_code', 'dx_1_code', 'edhours','heartdisease_flag','kidneydisease_flag'], inplace=True)\n",
    "prescription_data.dropna(subset=['subject_id','hadm_id', 'drug'], inplace=True)\n",
    "\n",
    "# Merge admissions and prescriptions\n",
    "admission_drug_data = pd.merge(prescription_data, admission_data, on='hadm_id', how='inner')\n",
    "admission_drug_data.rename(columns={'subject_id_x': 'subject_id'}, inplace=True)\n",
    "\n",
    "# Encode categorical variables\n",
    "categorical_features = pd.get_dummies(\n",
    "    admission_drug_data[['admission_type', 'drg_code', 'dx_1_code','heartdisease_flag','kidneydisease_flag']],\n",
    "    drop_first=True\n",
    ")\n",
    "\n",
    "# Scale numerical features (EDHOURS)\n",
    "scaler = StandardScaler()\n",
    "numerical_features = scaler.fit_transform(admission_drug_data[['edhours']])\n",
    "\n",
    "numerical_features = pd.DataFrame(numerical_features, columns=['scaled_edhours'])\n",
    "\n",
    "# TF-IDF for drug names\n",
    "tfidf_vectorizer = TfidfVectorizer(stop_words='english')\n",
    "drug_tfidf_matrix = tfidf_vectorizer.fit_transform(admission_drug_data['drug'])\n",
    "\n",
    "# Combine All Features into a Single DataFrame\n",
    "combined_features = pd.concat([categorical_features.reset_index(drop=True), numerical_features.reset_index(drop=True)], axis=1).reset_index(drop=True)\n",
    "\n",
    "print(\"Combined Features Shape:\", combined_features.shape)"
   ]
  },
  {
   "cell_type": "code",
   "execution_count": null,
   "id": "8c2d5334-0c9e-4494-91d2-94753a8de579",
   "metadata": {},
   "outputs": [],
   "source": [
    "combined_features.head()"
   ]
  },
  {
   "cell_type": "code",
   "execution_count": null,
   "id": "58a21991-e707-4f72-b18a-c86830fe9ee2",
   "metadata": {},
   "outputs": [],
   "source": [
    "# Step 1: Create Interaction Matrix\n",
    "def create_user_interaction_matrix(admission_data, col):\n",
    "    \"\"\"\n",
    "    Creates an interaction matrix for admissions and spec_type_desc.\n",
    "\n",
    "    Args:\n",
    "        admission_events_data (pd.DataFrame): Dataset containing 'hadm_id' and 'spec_type_desc'.\n",
    "\n",
    "    Returns:\n",
    "        pd.DataFrame: Interaction matrix with 'hadm_id' as rows and 'spec_type_desc' as columns.\n",
    "    \"\"\"\n",
    "    interaction_matrix = pd.pivot_table(\n",
    "        admission_data,\n",
    "        values='drg_code',  # Use any value column; replace with actual interaction measure if available.\n",
    "        index='subject_id',\n",
    "        columns=col,\n",
    "        aggfunc='count',  # Count occurrences (binary presence).\n",
    "        fill_value=0\n",
    "    )\n",
    "    return interaction_matrix\n",
    "\n",
    "# Step 2: Calculate User-User Similarity\n",
    "def calculate_user_similarity(interaction_matrix):\n",
    "    \"\"\"\n",
    "    Computes cosine similarity between users (rows).\n",
    "\n",
    "    Args:\n",
    "        interaction_matrix (pd.DataFrame): User-event interaction matrix.\n",
    "\n",
    "    Returns:\n",
    "        pd.DataFrame: User-user similarity matrix.\n",
    "    \"\"\"\n",
    "    similarity_matrix = cosine_similarity(interaction_matrix)\n",
    "    similarity_df = pd.DataFrame(\n",
    "        similarity_matrix,\n",
    "        index=interaction_matrix.index,  # Users as index\n",
    "        columns=interaction_matrix.index  # Users as columns\n",
    "    )\n",
    "    return similarity_df\n",
    "\n",
    "\n",
    "# Step 3: Recommend Events Based on User Similarity\n",
    "def recommend_events_user_based(patient_id, interaction_matrix, user_similarity, top_n=5):\n",
    "    \"\"\"\n",
    "    Recommends events (drugs/tests) based on similar users.\n",
    "\n",
    "    Args:\n",
    "        patient_id (int): Patient ID for whom to recommend events.\n",
    "        interaction_matrix (pd.DataFrame): Patient-event interaction matrix.\n",
    "        user_similarity (pd.DataFrame): User-user similarity matrix.\n",
    "        top_n (int): Number of recommendations to return.\n",
    "\n",
    "    Returns:\n",
    "        pd.Series: Top recommended events with similarity scores.\n",
    "    \"\"\"\n",
    "    if patient_id not in interaction_matrix.index:\n",
    "        return \"Patient ID not found in dataset.\"\n",
    "\n",
    "    # Get the most similar users\n",
    "    similar_users = user_similarity[patient_id].drop(patient_id).nlargest(top_n)\n",
    "\n",
    "    if similar_users.empty:\n",
    "        print(\"No similar users found!\")\n",
    "        return None\n",
    "\n",
    "    # Aggregate event occurrences from similar users (weighted by similarity scores)\n",
    "    weighted_event_scores = interaction_matrix.loc[similar_users.index].T.dot(similar_users)\n",
    "    \n",
    "    # Remove events the patient has already encountered\n",
    "    known_events = interaction_matrix.loc[patient_id]\n",
    "    recommended_events = weighted_event_scores[known_events == 0].sort_values(ascending=False).head(top_n)\n",
    "\n",
    "    return {\n",
    "        \"recommended_events\": recommended_events.to_dict(),  # Convert to dictionary for clarity\n",
    "        \"similar_users\": dict(zip(similar_users.index, similar_users.values))  # Map user IDs to similarity scores\n",
    "    }"
   ]
  },
  {
   "cell_type": "code",
   "execution_count": null,
   "id": "c4c7ccf1-b83a-445e-9e38-d88c32884abc",
   "metadata": {},
   "outputs": [],
   "source": [
    "admission_drug_data.head(2)"
   ]
  },
  {
   "cell_type": "code",
   "execution_count": null,
   "id": "b2ece5f5-76fb-4118-9251-29a9904af0e7",
   "metadata": {},
   "outputs": [],
   "source": [
    "if __name__ == \"__main__\":\n",
    "    # Load dataset (Replace with actual dataset)\n",
    "    #admission_drug_data = pd.read_csv(\"admission_drug_data.csv\")\n",
    "\n",
    "    # Step 1: Create user-event interaction matrix\n",
    "    interaction_matrix = create_user_interaction_matrix(admission_drug_data, \"drug\")\n",
    "    print(\"Interaction Matrix Shape:\", interaction_matrix.shape)\n",
    "    \n",
    "    # Step 2: Compute user-user similarity\n",
    "    user_similarity_df = calculate_user_similarity(interaction_matrix)\n",
    "    print(\"User-User Similarity Matrix Shape:\", user_similarity_df.shape)\n",
    "    \n",
    "    # Step 3: Recommend drugs for a specific patient\n",
    "    patient_id = 10577647  # Replace with actual patient ID\n",
    "    recommendations = recommend_events_user_based(patient_id, interaction_matrix, user_similarity_df, top_n=5)\n",
    "    \n",
    "    print(f\"Recommendations for patient {patient_id}:\")\n",
    "    print(\"Recommended Events with Scores:\", recommendations[\"recommended_events\"])\n",
    "    print(\"Similar Users with Scores:\", recommendations[\"similar_users\"])"
   ]
  },
  {
   "cell_type": "code",
   "execution_count": null,
   "id": "1b6c591c-244e-4036-9143-faf12919a186",
   "metadata": {},
   "outputs": [],
   "source": [
    "microbiology_events.shape"
   ]
  },
  {
   "cell_type": "code",
   "execution_count": null,
   "id": "4a2392d6-09b0-4f7c-974f-fa0256dce27b",
   "metadata": {},
   "outputs": [],
   "source": [
    "# Load individual sheets\n",
    "admission_data = sheets.parse('sepsis_pt_all_admission details')\n",
    "lab_events = sheets.parse('sepsis_lab_events')\n",
    "microbiology_events = sheets.parse('microbiology events')\n",
    "prescription_data = sheets.parse('prescriptoin')\n",
    "#poe_data = sheets.parse('poe')\n",
    "#poe_details = sheets.parse('poe_detail')"
   ]
  },
  {
   "cell_type": "code",
   "execution_count": null,
   "id": "6bfc5540-d8d2-491e-be9b-6bb22c1e2a1d",
   "metadata": {},
   "outputs": [],
   "source": [
    "# Select relevant columns\n",
    "admission_data_forevents = admission_data[['subject_id','hadm_id', 'admission_type', 'drg_code', 'dx_1_code', 'edhours']].drop_duplicates()\n",
    "microbiology_events = microbiology_events[['subject_id','hadm_id', 'spec_type_desc']].drop_duplicates()\n",
    "\n",
    "microbiology_events=microbiology_events.reset_index()\n",
    "\n",
    "# Drop rows with missing values in critical columns\n",
    "admission_data_forevents.dropna(subset=['subject_id','hadm_id', 'admission_type', 'drg_code', 'dx_1_code', 'edhours'], inplace=True)\n",
    "microbiology_events.dropna(subset=['subject_id','hadm_id', 'spec_type_desc'], inplace=True)\n",
    "\n",
    "# Merge admissions and prescriptions\n",
    "#admission_drug_data = pd.merge(prescription_data, admission_data, on='hadm_id', how='inner')\n",
    "#admission_drug_data.rename(columns={'subject_id_x': 'subject_id'}, inplace=True)\n",
    "\n",
    "# Merge admissions and prescriptions\n",
    "admission_events_data = pd.merge(microbiology_events, admission_data_forevents, on='subject_id', how='inner')\n",
    "admission_events_data.rename(columns={'subject_id_x': 'subject_id'}, inplace=True)\n",
    "\n",
    "# Encode categorical variables\n",
    "categorical_features_events = pd.get_dummies(\n",
    "    admission_data_forevents[['admission_type', 'drg_code', 'dx_1_code']],drop_first=True\n",
    ")\n",
    "\n",
    "# Scale numerical features (EDHOURS)\n",
    "scaler_events = StandardScaler()\n",
    "numerical_features_events = scaler_events.fit_transform(admission_data_forevents[['edhours']])\n",
    "\n",
    "numerical_features_events = pd.DataFrame(numerical_features_events, columns=['scaled_edhours'])\n",
    "\n",
    "# TF-IDF for drug names\n",
    "#tfidf_vectorizer_events = TfidfVectorizer(stop_words='english')\n",
    "#events_tfidf_matrix = tfidf_vectorizer_events.fit_transform(admission_events_data['spec_type_desc'])\n",
    "\n",
    "# Combine All Features into a Single DataFrame\n",
    "combined_features_events = pd.concat([categorical_features_events.reset_index(drop=True), numerical_features_events.reset_index(drop=True)], axis=1).reset_index(drop=True)\n",
    "\n",
    "print(\"Combined Features Shape:\", combined_features_events.shape)"
   ]
  },
  {
   "cell_type": "code",
   "execution_count": null,
   "id": "6afe8725-eec0-4b23-875f-de827dd6f3d5",
   "metadata": {},
   "outputs": [],
   "source": [
    "combined_features_events.head(2)"
   ]
  },
  {
   "cell_type": "code",
   "execution_count": null,
   "id": "6fbba565-34d2-474b-81ae-bcc87fcae55e",
   "metadata": {},
   "outputs": [],
   "source": [
    "#prescription_data['drug'].value_counts()"
   ]
  },
  {
   "cell_type": "code",
   "execution_count": null,
   "id": "08bc6fb4-c401-4ba9-92c9-cb8a8a496cae",
   "metadata": {},
   "outputs": [],
   "source": []
  },
  {
   "cell_type": "code",
   "execution_count": null,
   "id": "f1cac639-433a-4f4b-8c7c-bf47a775e6ec",
   "metadata": {},
   "outputs": [],
   "source": [
    "#admission_events_data.rename(columns={'subject_id_x':'subject_id'}, inplace=True)"
   ]
  },
  {
   "cell_type": "code",
   "execution_count": null,
   "id": "746ca6a9-1d18-46c2-97ec-c93c2367214a",
   "metadata": {},
   "outputs": [],
   "source": [
    "admission_events_data[admission_events_data['subject_id']==10577647]"
   ]
  },
  {
   "cell_type": "code",
   "execution_count": null,
   "id": "2e37d05d-5303-4305-bc73-6bda01933f6f",
   "metadata": {},
   "outputs": [],
   "source": [
    "if __name__ == \"__main__\":\n",
    "    # Load dataset (Replace with actual dataset)\n",
    "    #admission_drug_data = pd.read_csv(\"admission_drug_data.csv\")\n",
    "\n",
    "    # Step 1: Create user-event interaction matrix\n",
    "    interaction_matrix = create_user_interaction_matrix(admission_events_data, \"spec_type_desc\")\n",
    "    print(\"Interaction Matrix Shape:\", interaction_matrix.shape)\n",
    "    \n",
    "    # Step 2: Compute user-user similarity\n",
    "    user_similarity_df = calculate_user_similarity(interaction_matrix)\n",
    "    print(\"User-User Similarity Matrix Shape:\", user_similarity_df.shape)\n",
    "    \n",
    "    # Step 3: Recommend drugs for a specific patient\n",
    "    patient_id = 10577647  # Replace with actual patient ID\n",
    "    recommendations = recommend_events_user_based(patient_id, interaction_matrix, user_similarity_df, top_n=5)\n",
    "    print(recommendations)\n",
    "    print(f\"Recommendations for patient {patient_id}:\")\n",
    "    #print(\"Recommended Events with Scores:\", recommendations[\"recommended_events\"])\n",
    "    #print(\"Similar Users with Scores:\", recommendations[\"similar_users\"])"
   ]
  },
  {
   "cell_type": "code",
   "execution_count": null,
   "id": "7dfe05f3-8592-4624-8145-cd67db95a6ea",
   "metadata": {},
   "outputs": [],
   "source": [
    "#Recommendation of microbilogy events based on item Based filtering  "
   ]
  },
  {
   "cell_type": "code",
   "execution_count": null,
   "id": "5c9fbffe-6610-42b3-945e-57b8a901027f",
   "metadata": {},
   "outputs": [],
   "source": []
  }
 ],
 "metadata": {
  "kernelspec": {
   "display_name": "Python 3 (ipykernel)",
   "language": "python",
   "name": "python3"
  },
  "language_info": {
   "codemirror_mode": {
    "name": "ipython",
    "version": 3
   },
   "file_extension": ".py",
   "mimetype": "text/x-python",
   "name": "python",
   "nbconvert_exporter": "python",
   "pygments_lexer": "ipython3",
   "version": "3.9.21"
  }
 },
 "nbformat": 4,
 "nbformat_minor": 5
}
