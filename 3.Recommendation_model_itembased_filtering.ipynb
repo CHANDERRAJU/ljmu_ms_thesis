{
 "cells": [
  {
   "cell_type": "code",
   "execution_count": null,
   "id": "354a5db3-57b1-4d07-93f8-87d565eab9a3",
   "metadata": {},
   "outputs": [],
   "source": [
    "import pandas as pd\n",
    "from sklearn.feature_extraction.text import TfidfVectorizer\n",
    "from sklearn.metrics.pairwise import cosine_similarity\n",
    "from sklearn.preprocessing import StandardScaler\n",
    "from sklearn.preprocessing import MinMaxScaler\n",
    "from scipy.sparse import hstack\n",
    "import pandas as pd"
   ]
  },
  {
   "cell_type": "code",
   "execution_count": null,
   "id": "86bfbebe-716e-41a8-8aae-185250bd7d1a",
   "metadata": {},
   "outputs": [],
   "source": [
    "# Load the dataset\n",
    "file_path = 'sepsis_diab_pt_all_v2.xlsx'  # Update if needed\n",
    "# Load all sheets\n",
    "sheets = pd.ExcelFile(file_path)\n",
    "sheet_names = sheets.sheet_names\n",
    "print(\"Available Sheets:\", sheet_names)"
   ]
  },
  {
   "cell_type": "code",
   "execution_count": null,
   "id": "29d70bf5-992c-4a43-9cfd-a61d1cff54b2",
   "metadata": {},
   "outputs": [],
   "source": [
    "# Load individual sheets\n",
    "admission_data = sheets.parse('sepsis_pt_all_admission details')\n",
    "lab_events = sheets.parse('sepsis_lab_events')\n",
    "microbiology_events = sheets.parse('microbiology events')\n",
    "prescription_data = sheets.parse('prescriptoin')\n",
    "#poe_data = sheets.parse('poe')\n",
    "#poe_details = sheets.parse('poe_detail')"
   ]
  },
  {
   "cell_type": "code",
   "execution_count": null,
   "id": "2997e2a9-960b-4837-93a9-2e5c24bc01b5",
   "metadata": {},
   "outputs": [],
   "source": [
    "admission_data.info(verbose=True)"
   ]
  },
  {
   "cell_type": "code",
   "execution_count": null,
   "id": "c066053c-7c34-425d-811c-67085963146b",
   "metadata": {},
   "outputs": [],
   "source": [
    "# Select relevant columns\n",
    "admission_data = admission_data[['hadm_id', 'admission_type', 'drg_code', 'dx_1_code', 'edhours']].drop_duplicates()\n",
    "prescription_data = prescription_data[['hadm_id', 'drug']].drop_duplicates()\n",
    "\n",
    "prescription_data=prescription_data.reset_index()\n",
    "\n",
    "# Drop rows with missing values in critical columns\n",
    "admission_data.dropna(subset=['hadm_id', 'admission_type', 'drg_code', 'dx_1_code', 'edhours'], inplace=True)\n",
    "prescription_data.dropna(subset=['hadm_id', 'drug'], inplace=True)\n",
    "\n",
    "# Merge admissions and prescriptions\n",
    "admission_drug_data = pd.merge(prescription_data, admission_data, on='hadm_id', how='inner')\n",
    "\n",
    "# Encode categorical variables\n",
    "categorical_features = pd.get_dummies(\n",
    "    admission_drug_data[['admission_type', 'drg_code', 'dx_1_code']],\n",
    "    drop_first=True\n",
    ")\n",
    "\n",
    "# Scale numerical features (EDHOURS)\n",
    "scaler = StandardScaler()\n",
    "numerical_features = scaler.fit_transform(admission_drug_data[['edhours']])\n",
    "\n",
    "numerical_features = pd.DataFrame(numerical_features, columns=['scaled_edhours'])\n",
    "\n",
    "# TF-IDF for drug names\n",
    "#tfidf_vectorizer = TfidfVectorizer(stop_words='english')\n",
    "#drug_tfidf_matrix = tfidf_vectorizer.fit_transform(admission_drug_data['drug'])\n",
    "\n",
    "# Combine All Features into a Single DataFrame\n",
    "combined_features = pd.concat([categorical_features.reset_index(drop=True), numerical_features.reset_index(drop=True)], axis=1).reset_index(drop=True)\n",
    "\n",
    "print(\"Combined Features Shape:\", combined_features.shape)"
   ]
  },
  {
   "cell_type": "code",
   "execution_count": null,
   "id": "58a21991-e707-4f72-b18a-c86830fe9ee2",
   "metadata": {},
   "outputs": [],
   "source": [
    "# Step 1: Create Interaction Matrix\n",
    "def create_interaction_matrix(admission_data,col):\n",
    "    \"\"\"\n",
    "    Creates an interaction matrix for admissions and spec_type_desc.\n",
    "\n",
    "    Args:\n",
    "        admission_events_data (pd.DataFrame): Dataset containing 'hadm_id' and 'spec_type_desc'.\n",
    "\n",
    "    Returns:\n",
    "        pd.DataFrame: Interaction matrix with 'hadm_id' as rows and 'spec_type_desc' as columns.\n",
    "    \"\"\"\n",
    "    interaction_matrix = pd.pivot_table(\n",
    "        admission_data,\n",
    "        values='admission_type',  # Use any value column; replace with actual interaction measure if available.\n",
    "        index='hadm_id',\n",
    "        columns=col,\n",
    "        aggfunc='count',  # Count occurrences (binary presence).\n",
    "        fill_value=0\n",
    "    )\n",
    "    return interaction_matrix\n",
    "\n",
    "# Step 2: Calculate Item-Item Similarity\n",
    "def calculate_item_similarity(interaction_matrix):\n",
    "    \"\"\"\n",
    "    Calculates cosine similarity between items (columns).\n",
    "\n",
    "    Args:\n",
    "        interaction_matrix (pd.DataFrame): Interaction matrix with items as columns.\n",
    "\n",
    "    Returns:\n",
    "        pd.DataFrame: Item-item similarity matrix.\n",
    "    \"\"\"\n",
    "    similarity_matrix = cosine_similarity(interaction_matrix.T)\n",
    "    similarity_df = pd.DataFrame(\n",
    "        similarity_matrix,\n",
    "        index=interaction_matrix.columns,\n",
    "        columns=interaction_matrix.columns\n",
    "    )\n",
    "    return similarity_df\n",
    "\n",
    "def recommend_items(query_items, similarity_df, top_n=5):\n",
    "    \"\"\"\n",
    "    Recommends items based on similarity scores to query items.\n",
    "\n",
    "    Args:\n",
    "        query_items (list): List of items to find similar items for.\n",
    "        similarity_df (pd.DataFrame): Item-item similarity matrix.\n",
    "        top_n (int): Number of recommendations to return.\n",
    "\n",
    "    Returns:\n",
    "        pd.Series: Top recommended items with similarity scores.\n",
    "    \"\"\"\n",
    "    # Aggregate similarity scores for the query items\n",
    "    similar_items = similarity_df[query_items].mean(axis=1).sort_values(ascending=False)\n",
    "    \n",
    "    # Exclude the query items themselves from recommendations\n",
    "    similar_items = similar_items[~similar_items.index.isin(query_items)]\n",
    "    \n",
    "    return similar_items.head(top_n)\n"
   ]
  },
  {
   "cell_type": "code",
   "execution_count": null,
   "id": "6fbba565-34d2-474b-81ae-bcc87fcae55e",
   "metadata": {},
   "outputs": [],
   "source": [
    "#prescription_data['drug'].value_counts()"
   ]
  },
  {
   "cell_type": "code",
   "execution_count": null,
   "id": "746ca6a9-1d18-46c2-97ec-c93c2367214a",
   "metadata": {},
   "outputs": [],
   "source": [
    "admission_drug_data.head(2)"
   ]
  },
  {
   "cell_type": "code",
   "execution_count": null,
   "id": "00d54897-974e-46fd-bf1e-6b3ed9128c5f",
   "metadata": {},
   "outputs": [],
   "source": [
    "# Example Execution\n",
    "if __name__ == \"__main__\":\n",
    "    interaction_matrix = create_interaction_matrix(admission_drug_data,\"drug\")\n",
    "    print(\"Interaction Matrix Shape:\", interaction_matrix.shape)\n",
    "    \n",
    "    similarity_df = calculate_item_similarity(interaction_matrix)\n",
    "    print(\"Item-Item Similarity Matrix Shape:\", similarity_df.shape)\n",
    "    \n",
    "    # Example query: Finding recommendations for a given 'spec_type_desc'\n",
    "    query_items = ['Glucagon']  # Replace with actual items\n",
    "    recommendations = recommend_items(query_items, similarity_df, top_n=5)\n",
    "    print(\"Recommendations:\\n\", recommendations)\n"
   ]
  },
  {
   "cell_type": "code",
   "execution_count": null,
   "id": "7dfe05f3-8592-4624-8145-cd67db95a6ea",
   "metadata": {},
   "outputs": [],
   "source": [
    "#Recommendation of microbilogy events based on item Based filtering  "
   ]
  },
  {
   "cell_type": "code",
   "execution_count": null,
   "id": "998c4f47-021b-429f-af22-b15df3622839",
   "metadata": {},
   "outputs": [],
   "source": [
    "# Select relevant columns\n",
    "admission_data_forevents = admission_data[['hadm_id', 'admission_type', 'drg_code', 'dx_1_code', 'edhours']].drop_duplicates()\n",
    "microbiology_events = microbiology_events[['hadm_id', 'spec_type_desc']].drop_duplicates()\n",
    "\n",
    "microbiology_events=microbiology_events.reset_index()\n",
    "\n",
    "# Drop rows with missing values in critical columns\n",
    "admission_data_forevents.dropna(subset=['hadm_id', 'admission_type', 'drg_code', 'dx_1_code', 'edhours'], inplace=True)\n",
    "microbiology_events.dropna(subset=['hadm_id', 'spec_type_desc'], inplace=True)\n",
    "\n",
    "# Merge admissions and prescriptions\n",
    "admission_events_data = pd.merge(microbiology_events, admission_data_forevents, on='hadm_id', how='inner')\n",
    "\n",
    "# Encode categorical variables\n",
    "categorical_features_events = pd.get_dummies(\n",
    "    admission_data_forevents[['admission_type', 'drg_code', 'dx_1_code']],drop_first=True\n",
    ")\n",
    "\n",
    "# Scale numerical features (EDHOURS)\n",
    "scaler_events = StandardScaler()\n",
    "numerical_features_events = scaler_events.fit_transform(admission_data_forevents[['edhours']])\n",
    "\n",
    "numerical_features_events = pd.DataFrame(numerical_features_events, columns=['scaled_edhours'])\n",
    "\n",
    "# TF-IDF for drug names\n",
    "#tfidf_vectorizer_events = TfidfVectorizer(stop_words='english')\n",
    "#events_tfidf_matrix = tfidf_vectorizer_events.fit_transform(admission_events_data['spec_type_desc'])\n",
    "\n",
    "# Combine All Features into a Single DataFrame\n",
    "combined_features_events = pd.concat([categorical_features_events.reset_index(drop=True), numerical_features_events.reset_index(drop=True)], axis=1).reset_index(drop=True)\n",
    "\n",
    "print(\"Combined Features Shape:\", combined_features_events.shape)"
   ]
  },
  {
   "cell_type": "code",
   "execution_count": null,
   "id": "c9efff06-2f1c-4e0c-a59c-04a9064e53a4",
   "metadata": {},
   "outputs": [],
   "source": [
    "admission_events_data.head(2)"
   ]
  },
  {
   "cell_type": "code",
   "execution_count": null,
   "id": "5f75ea37-3960-4d91-8695-6143cb6c28dd",
   "metadata": {},
   "outputs": [],
   "source": [
    "# Example Execution\n",
    "if __name__ == \"__main__\":\n",
    "    # Assuming `admission_events_data` is the preprocessed data\n",
    "    # Replace 'admission_events_data' with your actual dataframe\n",
    "    interaction_matrix = create_interaction_matrix(admission_events_data,\"spec_type_desc\")\n",
    "    print(\"Interaction Matrix Shape:\", interaction_matrix.shape)\n",
    "    \n",
    "    similarity_df = calculate_item_similarity(interaction_matrix)\n",
    "    print(\"Item-Item Similarity Matrix Shape:\", similarity_df.shape)\n",
    "    \n",
    "    # Example query: Finding recommendations for a given 'spec_type_desc'\n",
    "    query_items = ['BLOOD CULTURE']  # Replace with actual items\n",
    "    recommendations = recommend_items(query_items, similarity_df, top_n=5)\n",
    "    print(\"Recommendations:\\n\", recommendations)"
   ]
  },
  {
   "cell_type": "code",
   "execution_count": null,
   "id": "5c9fbffe-6610-42b3-945e-57b8a901027f",
   "metadata": {},
   "outputs": [],
   "source": []
  }
 ],
 "metadata": {
  "kernelspec": {
   "display_name": "Python 3 (ipykernel)",
   "language": "python",
   "name": "python3"
  },
  "language_info": {
   "codemirror_mode": {
    "name": "ipython",
    "version": 3
   },
   "file_extension": ".py",
   "mimetype": "text/x-python",
   "name": "python",
   "nbconvert_exporter": "python",
   "pygments_lexer": "ipython3",
   "version": "3.9.21"
  }
 },
 "nbformat": 4,
 "nbformat_minor": 5
}
